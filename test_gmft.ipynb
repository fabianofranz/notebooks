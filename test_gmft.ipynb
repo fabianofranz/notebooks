{
 "cells": [
  {
   "cell_type": "code",
   "execution_count": null,
   "id": "342ababa-9a65-476c-abb4-bb0d0ce2131a",
   "metadata": {},
   "outputs": [],
   "source": [
    "import json\n",
    "from pathlib import Path"
   ]
  },
  {
   "cell_type": "code",
   "execution_count": null,
   "id": "e29c32e6-fa83-4a1e-9540-8978079489de",
   "metadata": {},
   "outputs": [],
   "source": [
    "doc_path = Path(\"/home/ffranz/Dev/e2e-poc-source-documents/safebalance-clarity-statement.pdf\")\n",
    "output_dir = Path(\"/home/ffranz/Dev/e2e-poc-source-documents/safebalance-clarity-statement/test\")\n",
    "\n",
    "files = []\n",
    "\n",
    "if doc_path.is_file():\n",
    "    files = [doc_path]\n",
    "else:\n",
    "    files = list(doc_path.rglob(\"*.pdf\"))\n",
    "\n",
    "print(f\"Files to convert: {files}\")"
   ]
  },
  {
   "cell_type": "code",
   "execution_count": null,
   "id": "e8b46d4b-c864-47ea-bc88-14f3f782ea80",
   "metadata": {},
   "outputs": [],
   "source": [
    "!pip install gmft"
   ]
  },
  {
   "cell_type": "code",
   "execution_count": null,
   "id": "4f88ab14-b33a-480e-b64b-eb742669cce3",
   "metadata": {},
   "outputs": [],
   "source": [
    "from gmft.auto import CroppedTable, TableDetector, AutoTableFormatter, AutoTableDetector\n",
    "from gmft.pdf_bindings import PyPDFium2Document\n",
    "from gmft.table_visualization import display_html_and_image\n",
    "\n",
    "detector = AutoTableDetector()\n",
    "formatter = AutoTableFormatter()\n",
    "\n",
    "def ingest_pdf(pdf_path): # produces list[CroppedTable]\n",
    "    doc = PyPDFium2Document(pdf_path)\n",
    "    tables = []\n",
    "    for page in doc:\n",
    "        tables += detector.extract(page)\n",
    "    return tables, doc\n",
    "\n",
    "dfs = []\n",
    "formatted_tables = []\n",
    "images = []\n",
    "\n",
    "for file in files:\n",
    "    tables, doc = ingest_pdf(file)\n",
    "    for table in tables:\n",
    "        print(\"----------------TABLE----------------\")\n",
    "        print(table.text())\n",
    "        print(\"-------------------------------------\")\n",
    "\n",
    "        ft = formatter.extract(table)\n",
    "        try:\n",
    "            dfs.append(ft.df())\n",
    "        except Exception as e:\n",
    "            print(e)\n",
    "            dfs.append(None)\n",
    "        formatted_tables.append(ft)\n",
    "        images.append(ft.visualize())\n",
    "    doc.close()"
   ]
  },
  {
   "cell_type": "code",
   "execution_count": null,
   "id": "b08491b4-b8fd-484c-a84c-1ab2d5b718ab",
   "metadata": {},
   "outputs": [],
   "source": [
    "from IPython.display import display, Markdown\n",
    "import pandas as pd\n",
    "\n",
    "prev_doc = None\n",
    "\n",
    "for df, img, ft in zip(dfs, images, formatted_tables):\n",
    "    with pd.option_context('display.max_rows', 500, \"display.multi_sparse\", False):\n",
    "        if ft.page.filename != prev_doc:\n",
    "            prev_doc = ft.page.filename\n",
    "            display(Markdown('---'))\n",
    "            display(Markdown(f'### {ft.page.filename}'))\n",
    "            \n",
    "        if df is not None:\n",
    "            html = df.fillna(\"\").to_html()\n",
    "        else:\n",
    "            html = \"Failed to extract table\"\n",
    "        display_html_and_image(html, img)\n",
    "        "
   ]
  }
 ],
 "metadata": {
  "kernelspec": {
   "display_name": "Python 3 (ipykernel)",
   "language": "python",
   "name": "python3"
  },
  "language_info": {
   "codemirror_mode": {
    "name": "ipython",
    "version": 3
   },
   "file_extension": ".py",
   "mimetype": "text/x-python",
   "name": "python",
   "nbconvert_exporter": "python",
   "pygments_lexer": "ipython3",
   "version": "3.12.10"
  }
 },
 "nbformat": 4,
 "nbformat_minor": 5
}
